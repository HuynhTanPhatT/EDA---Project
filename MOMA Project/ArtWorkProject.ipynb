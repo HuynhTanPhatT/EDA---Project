{
 "cells": [
  {
   "cell_type": "markdown",
   "id": "fe8199bd-1384-490a-b228-7436ae433b18",
   "metadata": {},
   "source": [
    "# 📊 Project: Analysis and Summary of Artists' Age Intervals and Frequency of Artwork creation"
   ]
  },
  {
   "cell_type": "markdown",
   "id": "bed8cba4-cfb2-4773-a46c-fb5069af92d9",
   "metadata": {},
   "source": [
    "## Table of Contents (TOC)\n",
    "1. [Project](#')\n",
    "    * [Introduction](#Introduction)\n",
    "    * [Data Description](#Descriptions-of-the-columns)\n",
    "2. [Importing Modules](#Importing-Modules)\n",
    "2. [Data Exploration](#Opening-and-Exploring-the-data)\n",
    "    * [Data Quality Report](#Data-Quality-Report)\n",
    "    * [Data Cleaning](#Data-Cleaning)\n",
    "        * [Replace The Parentheses](#Replace-the-parenthese)\n",
    "        * [Uniform The Data Entries](#Uniform-the-data-entries)\n",
    "            * [Remove Bad Characters](#Remove-bad-characters-in-a-list)\n",
    "            * [Remove duplicated values](#Detect-and-Remove-duplicated-entries)\n",
    "3. [Average Frequency of Artwork Creation by an Artist](#Average-Frequency-of-Artwork-Creation-by-an-Artist)\n",
    "4. [Analyzing and summarizing artists' age interval](#Analyzing-and-summarizing-artists'-age-interval)\n",
    "5. [Conclusion](#Conclusion)"
   ]
  },
  {
   "attachments": {},
   "cell_type": "markdown",
   "id": "aaef1faf",
   "metadata": {},
   "source": [
    "## Introduction\n",
    "- We are going to work with the data about art in the ***Museum of Modern Art (MoMA)*** in New York City, which has one of the largest collections of modern art in the World"
   ]
  },
  {
   "cell_type": "markdown",
   "id": "8e030171-791e-4d59-aa11-3f5612ee3f9e",
   "metadata": {},
   "source": [
    "## Descriptions of the columns\n",
    "- Title: the title of the artwork\n",
    "- Artist: the name of the artist who created the artwork\n",
    "- Nationality: the nationality of the artist\n",
    "- BeginDate: the year in which the artist was born\n",
    "- EndDate: the year in which the artist died\n",
    "- Gender: the gender of the artist\n",
    "- Date: the date that the artwork was created\n",
    "- Department: the department inside MoMA to which the artwork belongs"
   ]
  },
  {
   "cell_type": "markdown",
   "id": "5266074b",
   "metadata": {},
   "source": [
    "# Importing Modules"
   ]
  },
  {
   "cell_type": "code",
   "execution_count": 1,
   "id": "10c6ab78",
   "metadata": {},
   "outputs": [],
   "source": [
    "# Pandas\n",
    "import pandas as pd\n",
    "# Defaultdict\n",
    "from collections import defaultdict\n",
    "# Numpy\n",
    "import numpy as np\n",
    "# Matplotlib\n",
    "from matplotlib import pyplot as plt"
   ]
  },
  {
   "cell_type": "markdown",
   "id": "0caf0673-2a00-49b9-8f2a-cbe6d68585d4",
   "metadata": {},
   "source": [
    "# Opening and Exploring the data"
   ]
  },
  {
   "cell_type": "markdown",
   "id": "dc3f59d6-070d-4f9b-ad09-ec2cdea6e60d",
   "metadata": {},
   "source": [
    "https://www.kaggle.com/datasets/momanyc/museum-collection"
   ]
  },
  {
   "cell_type": "code",
   "execution_count": 2,
   "id": "72983188-73cc-4b33-b899-94536faf11bb",
   "metadata": {},
   "outputs": [],
   "source": [
    "def extract_file(file_csv):\n",
    "    from csv import reader\n",
    "    with open(file_csv,encoding='utf-8') as opened_file:\n",
    "        read_file = reader(opened_file)\n",
    "        dataset = list(read_file)\n",
    "    return dataset"
   ]
  },
  {
   "cell_type": "code",
   "execution_count": 3,
   "id": "693957d3-6f65-446d-8287-5b7b6368ba8b",
   "metadata": {},
   "outputs": [],
   "source": [
    "#Opening MoMA dataset\n",
    "moma = extract_file('C:/Users/admin/Documents/DATA ANALYST/Project/2025/Python In DA/I_Introduction To Python/MomaProject/artworks.csv')\n",
    "header_moma = moma[0]\n",
    "moma = moma[1:]"
   ]
  },
  {
   "cell_type": "code",
   "execution_count": 4,
   "id": "5375d552-fb7d-4ed8-926f-95f80f5efb4c",
   "metadata": {},
   "outputs": [],
   "source": [
    "def explore_data(dataset,start,end,rows_and_columns =False):\n",
    "    data_slice = dataset[start:end]\n",
    "    for space in data_slice:\n",
    "        print(space)\n",
    "        print(\"\\n\")\n",
    "    if rows_and_columns == True:\n",
    "        print(\"Number of columns:\",len(dataset[0]))\n",
    "        print(\"Number of rows:\",len(dataset))"
   ]
  },
  {
   "cell_type": "code",
   "execution_count": 5,
   "id": "f596c10e-57b3-4419-b517-193aea196079",
   "metadata": {},
   "outputs": [
    {
     "name": "stdout",
     "output_type": "stream",
     "text": [
      "['Title', 'Artist', 'Nationality', 'BeginDate', 'EndDate', 'Gender', 'Date', 'Department']\n",
      "\n",
      "\n",
      "['Dress MacLeod from Tartan Sets', 'Sarah Charlesworth', '(American)', '(1947)', '(2013)', '(Female)', '1986', 'Prints & Illustrated Books']\n",
      "\n",
      "\n",
      "['Duplicate of plate from folio 11 verso (supplementary suite, plate 4) from ARDICIA', 'Pablo Palazuelo', '(Spanish)', '(1916)', '(2007)', '(Male)', '1978', 'Prints & Illustrated Books']\n",
      "\n",
      "\n",
      "Number of columns: 8\n",
      "Number of rows: 16725\n"
     ]
    }
   ],
   "source": [
    "print(header_moma)\n",
    "print(\"\\n\")\n",
    "explore_data(moma,0,2,True)"
   ]
  },
  {
   "cell_type": "markdown",
   "id": "c5ee12ec-ed70-4081-bb70-b3fb4eb43495",
   "metadata": {},
   "source": [
    "## Data Quality Report"
   ]
  },
  {
   "cell_type": "markdown",
   "id": "478459b0-b10c-40c0-85b8-ee91531af85e",
   "metadata": {},
   "source": [
    "Before proceeding cleaning data, i need to know the quality of data which i am working with. Therefore, i am going make a quality report to check null values, duplicate values and unique values based on ***Title column***."
   ]
  },
  {
   "cell_type": "code",
   "execution_count": 6,
   "id": "dc0e7da8-c158-4e4a-bc39-c6e3b2afcd0a",
   "metadata": {},
   "outputs": [],
   "source": [
    "import pandas as pd\n",
    "MOMA = pd.read_csv('C:/Users/admin/Documents/DATA ANALYST/Project/2025/Python In DA/I_Introduction To Python/MomaProject/artworks.csv')"
   ]
  },
  {
   "cell_type": "code",
   "execution_count": 7,
   "id": "7fa6bf2b-735a-449c-8a1d-85efcbbe42aa",
   "metadata": {},
   "outputs": [],
   "source": [
    "def check_data_quality(df,column):\n",
    "    quality_report = {\n",
    "        'null_values': df.isnull().sum().to_dict(),\n",
    "        'unique_values': len(df[column].unique()),\n",
    "        'duplicate_values': df[column].duplicated().sum(),\n",
    "        'total_rows': len(df)\n",
    "    }\n",
    "    return quality_report"
   ]
  },
  {
   "cell_type": "code",
   "execution_count": 8,
   "id": "48b8dc8d-2d23-41ea-b340-16a8e82ccea9",
   "metadata": {},
   "outputs": [
    {
     "data": {
      "text/plain": [
       "{'null_values': {'Title': 1,\n",
       "  'Artist': 0,\n",
       "  'Nationality': 0,\n",
       "  'BeginDate': 939,\n",
       "  'EndDate': 6251,\n",
       "  'Gender': 0,\n",
       "  'Date': 0,\n",
       "  'Department': 0},\n",
       " 'unique_values': 13684,\n",
       " 'duplicate_values': 3041,\n",
       " 'total_rows': 16725}"
      ]
     },
     "metadata": {},
     "output_type": "display_data"
    }
   ],
   "source": [
    "quality_report = check_data_quality(df=MOMA,column='Title')\n",
    "display(quality_report)"
   ]
  },
  {
   "cell_type": "markdown",
   "id": "3ae3e91e-599b-4ad5-800c-63e52d5d9729",
   "metadata": {},
   "source": [
    "Generally, there are `3041 duplicated values` based on a criterion (artworks)"
   ]
  },
  {
   "cell_type": "markdown",
   "id": "7e4cc036-a446-4ed2-a6d9-1db417743a24",
   "metadata": {},
   "source": [
    "## Data Cleaning"
   ]
  },
  {
   "cell_type": "markdown",
   "id": "ee9bc920-a13c-4e4e-baed-4ce63b62f460",
   "metadata": {},
   "source": [
    "### Replace the parenthese"
   ]
  },
  {
   "cell_type": "markdown",
   "id": "49354864-07f9-4b03-9fa4-997d78f6dd94",
   "metadata": {},
   "source": [
    "I browse the table and see that ***Nationality, Begin Date, End Date and Gender*** columns have parentheses \"()\" at the beginning and the end of the values. So i am going to remove those parenthese by using replace()function"
   ]
  },
  {
   "cell_type": "markdown",
   "id": "9da12456-0ec4-464a-a104-a2e813e3c0ca",
   "metadata": {},
   "source": [
    "the syntax of replace: string.replact(old,new,count). Because there are two pairs of marks, so i have to use double \"replace\" to remove them."
   ]
  },
  {
   "cell_type": "code",
   "execution_count": 9,
   "id": "74406b66",
   "metadata": {},
   "outputs": [],
   "source": [
    "def remove_parentheses(dataset,index):\n",
    "    for row in dataset:\n",
    "        column = row[index]\n",
    "        column = column.replace(\"(\",\")\").replace(\")\",\"\")\n",
    "        row[index] = column"
   ]
  },
  {
   "cell_type": "code",
   "execution_count": 10,
   "id": "d9c12b85-61e0-444c-bdfc-2dbddec33d61",
   "metadata": {},
   "outputs": [],
   "source": [
    "#Execute it once\n",
    "remove_parentheses(moma,2)  # Nationality\n",
    "remove_parentheses(moma,3)  # BeginDate \n",
    "remove_parentheses(moma,4)  # EndDate\n",
    "remove_parentheses(moma,5)  # Gender"
   ]
  },
  {
   "cell_type": "markdown",
   "id": "da7b87c3-72c8-40fa-b345-1d26d9e6be97",
   "metadata": {},
   "source": [
    "I am going to check again the dataset whether the parenthese in \"Nationality\",\"Begin Date\",\"End Date\" and \"Gender\" columns have been deleted!"
   ]
  },
  {
   "cell_type": "code",
   "execution_count": 11,
   "id": "f7c12955-11ba-4d77-ab4f-6585ed2b46f9",
   "metadata": {},
   "outputs": [
    {
     "name": "stdout",
     "output_type": "stream",
     "text": [
      "['Dress MacLeod from Tartan Sets', 'Sarah Charlesworth', 'American', '1947', '2013', 'Female', '1986', 'Prints & Illustrated Books']\n",
      "\n",
      "\n",
      "['Duplicate of plate from folio 11 verso (supplementary suite, plate 4) from ARDICIA', 'Pablo Palazuelo', 'Spanish', '1916', '2007', 'Male', '1978', 'Prints & Illustrated Books']\n",
      "\n",
      "\n",
      "Number of columns: 8\n",
      "Number of rows: 16725\n"
     ]
    }
   ],
   "source": [
    "explore_data(moma,0,2,True)"
   ]
  },
  {
   "cell_type": "markdown",
   "id": "01a3c862-3553-43cb-a571-ef71a5dffdcc",
   "metadata": {},
   "source": [
    "So you can see right now, after using the loop , the parentheses are gone from the values."
   ]
  },
  {
   "cell_type": "markdown",
   "id": "17e68180-8705-4743-8480-4937552ff4d9",
   "metadata": {},
   "source": [
    "### Uniform the data entries"
   ]
  },
  {
   "cell_type": "markdown",
   "id": "84f56fed",
   "metadata": {},
   "source": [
    "I have just explored the ***Gender*** and ***Nationality*** columns and noticed the data entries are inconsistent, due to different capitalizations. Therefore i am going to create a function to check unique values in each column in order to uniform the data"
   ]
  },
  {
   "cell_type": "markdown",
   "id": "269becdb",
   "metadata": {},
   "source": [
    "#### Checking unique values"
   ]
  },
  {
   "cell_type": "code",
   "execution_count": 12,
   "id": "76773e96",
   "metadata": {},
   "outputs": [],
   "source": [
    "def checking_unique_values(dataset,index):\n",
    "    column_list = []\n",
    "    res_list = []\n",
    "    for row in dataset:\n",
    "        column = row[index]\n",
    "        column_list.append(column)\n",
    "    for item in column_list:\n",
    "        if item not in res_list:\n",
    "            res_list.append(item)\n",
    "    return res_list"
   ]
  },
  {
   "cell_type": "code",
   "execution_count": 13,
   "id": "c40dcd6a-0cfe-4e38-8c4d-a159fb5467ca",
   "metadata": {},
   "outputs": [
    {
     "name": "stdout",
     "output_type": "stream",
     "text": [
      "['Female', 'Male', '', 'male']\n"
     ]
    }
   ],
   "source": [
    "genre = checking_unique_values(moma,5)\n",
    "print(genre)"
   ]
  },
  {
   "cell_type": "markdown",
   "id": "1a71e6a5-2e70-464b-83a4-d725449500f1",
   "metadata": {},
   "source": [
    "***Genre*** column contains four unique values:\"\" (an empty string), \"Male\", \"Female\", \"male\""
   ]
  },
  {
   "cell_type": "code",
   "execution_count": 14,
   "id": "b035c85a",
   "metadata": {},
   "outputs": [
    {
     "name": "stdout",
     "output_type": "stream",
     "text": [
      "['American', 'Spanish', 'French', 'South African', 'Canadian', 'Czech', 'Belgian', 'Russian', 'British', 'German', '', 'Swiss', 'Polish', 'Japanese', 'Portuguese', 'Austrian', 'Australian', 'Italian', 'Chilean', 'Colombian', 'Mexican', 'Brazilian', 'Dutch', 'Romanian', 'Venezuelan', 'Korean', 'Israeli', 'Argentine', 'Indian', 'Nationality unknown', 'Swedish', 'Yugoslav', 'Cuban', 'Nationality Unknown', 'Various', 'Luxembourgish', 'Croatian', 'Bulgarian', 'Hungarian', 'Georgian', 'Puerto Rican', 'Danish', 'Serbian', 'Pakistani', 'Ecuadorian', 'Chinese', 'Iranian', 'Finnish', 'Lebanese', 'Thai', 'Cambodian', 'Scottish', 'Kenyan', 'Latvian', 'Sudanese', 'Uruguayan', 'Peruvian', 'New Zealander', 'Moroccan', 'Guatemalan', 'Cameroonian', 'Egyptian', 'Nigerian', 'Icelandic', 'Haitian', 'Tajik', 'Irish', 'Norwegian', 'Costa Rican', 'Slovenian', 'Turkish', 'Mozambican', 'Palestinian', 'Ukrainian', 'Angolan', 'Tunisian', 'Greek', 'Zimbabwean', 'Bahamian', 'Vietnamese', 'Panamanian', 'Canadian Inuit', 'Malian', 'Filipino']\n"
     ]
    }
   ],
   "source": [
    "nationality = checking_unique_values(moma,2)\n",
    "print(nationality)"
   ]
  },
  {
   "cell_type": "markdown",
   "id": "8ca98665-e1b4-4a61-bdc2-13ed19722e2f",
   "metadata": {},
   "source": [
    "***Nationality*** column contains: countries and null values"
   ]
  },
  {
   "cell_type": "markdown",
   "id": "9218d0ff",
   "metadata": {},
   "source": [
    "#### String Capitalization"
   ]
  },
  {
   "cell_type": "markdown",
   "id": "78abb17b-301f-4eb5-b1ba-28bf4a48beac",
   "metadata": {},
   "source": [
    "I am going to transform the first letter of each word transformed to uppercase by using `title()function` and replace `null values` with \"Unknown/Other\""
   ]
  },
  {
   "cell_type": "code",
   "execution_count": 15,
   "id": "1ec05f0f",
   "metadata": {},
   "outputs": [],
   "source": [
    "def string_capitalization(dataset,index):\n",
    "    for row in dataset:\n",
    "        column = row[index]\n",
    "        if not column.strip(): #if there is no column and delete empty space.\n",
    "            column = \"Unknown/Other\"\n",
    "        else:\n",
    "            column = column.title()\n",
    "        row[index] = column"
   ]
  },
  {
   "cell_type": "code",
   "execution_count": 16,
   "id": "1c9f8d4d-c444-45ff-850d-ac77e999e53a",
   "metadata": {},
   "outputs": [],
   "source": [
    "genre= string_capitalization(moma,5)\n",
    "nationality = string_capitalization(moma,2)"
   ]
  },
  {
   "cell_type": "markdown",
   "id": "2b85dab0-1162-45e7-ac30-7549b9c3b4d7",
   "metadata": {},
   "source": [
    "Right now, the data is consistent with the capitalization of both Nationality and Gender colums uniform"
   ]
  },
  {
   "cell_type": "markdown",
   "id": "a7a7b774-389e-4232-bbdc-7a4ca7be0186",
   "metadata": {},
   "source": [
    "I want to calculate the age at which artist produced the work with 2 columns: ***Begin Date*** and ***ArtDate*** (the date that the artwork was created). There is a problem, after i checked the unique value in the column. It contains data in many different formats:\n",
    "-  Some years in parenthese\n",
    "-  Some years have (c. / C.) , indicating that the year is approximate. -> use the year without c./C\n",
    "-  Some have year ranges, indicated with dash.\n",
    "-  Some have 's to indicate a decade. -> use the year without 's"
   ]
  },
  {
   "cell_type": "markdown",
   "id": "aacc6ff5",
   "metadata": {},
   "source": [
    "#### Remove bad characters in a list"
   ]
  },
  {
   "cell_type": "markdown",
   "id": "5f30b8ec-7512-49d9-9d0b-3d2172e1d32b",
   "metadata": {},
   "source": [
    "1. First, i am going to determine all characters in the column except numbers.\n",
    "    - I use the checking_unique_value function to extract all the unique in the column year, and the result gives me a string(year) of each row. \n",
    "    - After that, i use the isdigit()method to determine if the year contains any characters except digits. If it have => Append that character to `bad_char`.\n",
    "    - After executing the bad_char list, it didn't show the unique bad char, therefore i have to list(set(str))\n",
    "2. I am going to build a function [to extract all characters except numbers]\n",
    "\n"
   ]
  },
  {
   "cell_type": "code",
   "execution_count": 19,
   "id": "350f9c4a",
   "metadata": {},
   "outputs": [
    {
     "name": "stdout",
     "output_type": "stream",
     "text": [
      "['(', ')', '.', \"'\", ' ', 's', 'c']\n"
     ]
    }
   ],
   "source": [
    "bad_chars = []\n",
    "dis_badchar = []\n",
    "for year in checking_unique_values(moma,6):\n",
    "    for char in year:\n",
    "        # !='-' to keep the format year range\n",
    "        # isdigit() returns True if all the characters are digits, otherwise False\n",
    "        if not char.isdigit() and char !=\"-\":\n",
    "            bad_chars.append(char)\n",
    "# Remove the duplicate\n",
    "dis_badchar = list(set(bad_chars)) # Dùng set để loại bỏ duplicate hiệu quả hơn #['(', ')', '(', ')', '(', ')', 'c', '.',\n",
    "print(dis_badchar)"
   ]
  },
  {
   "cell_type": "markdown",
   "id": "36e0609f-cb7e-43b8-8c87-27e20e41bddf",
   "metadata": {},
   "source": [
    "Let's get to work to clean these bad characters. I will use a loop to iterate over each string, i'll use strip_character() function to remove the bad characters"
   ]
  },
  {
   "cell_type": "code",
   "execution_count": 20,
   "id": "9c540799",
   "metadata": {},
   "outputs": [],
   "source": [
    "def strip_characters(string):\n",
    "    for char in dis_badchar:\n",
    "        string = string.replace(char,\"\") #Loại bỏ tất cả badchars trong string, thay thế những char = \"\"\n",
    "    return string\n",
    "for row in moma:\n",
    "    artdate = row[6]\n",
    "    artdate = strip_characters(artdate)\n",
    "    row[6] = artdate"
   ]
  },
  {
   "cell_type": "markdown",
   "id": "214a1054-5b5d-462f-a969-af5ab45254df",
   "metadata": {},
   "source": [
    "There are two things we have to do before calculating the age at which artist produced the work.\n",
    "1. Convertings from String to Int\n",
    "2. There are [a single year] and [ranges of years]\n",
    "- With ranges of years: i'm going to find the average between two years, after that round the number\n",
    "`Format: AVG = ROUND((YEAR + YEAR)/2)`"
   ]
  },
  {
   "cell_type": "code",
   "execution_count": 21,
   "id": "cc36e2db-90bd-46ec-9114-029fe60edcc8",
   "metadata": {},
   "outputs": [],
   "source": [
    "def process_date(string):\n",
    "    if \"-\" in string:\n",
    "        split_str = string.split(\"-\")   #[[1,2],[2,3]]\n",
    "        split_str_one = split_str[0]\n",
    "        split_str_two = split_str[1]\n",
    "        string = round((int(split_str_one) + int(split_str_two))/2)\n",
    "    return string\n",
    "for row in moma:\n",
    "    artdate = row[6]\n",
    "    artdate = process_date(artdate)\n",
    "    row[6] = artdate"
   ]
  },
  {
   "cell_type": "code",
   "execution_count": 22,
   "id": "4fabea0d-70ee-4af7-a765-435f5bffbc4b",
   "metadata": {
    "scrolled": true
   },
   "outputs": [
    {
     "name": "stdout",
     "output_type": "stream",
     "text": [
      "['Dress MacLeod from Tartan Sets', 'Sarah Charlesworth', 'American', '1947', '2013', 'Female', '1986', 'Prints & Illustrated Books']\n",
      "\n",
      "\n",
      "['Duplicate of plate from folio 11 verso (supplementary suite, plate 4) from ARDICIA', 'Pablo Palazuelo', 'Spanish', '1916', '2007', 'Male', '1978', 'Prints & Illustrated Books']\n",
      "\n",
      "\n",
      "Number of columns: 8\n",
      "Number of rows: 16725\n"
     ]
    }
   ],
   "source": [
    "explore_data(moma,0,2,True)"
   ]
  },
  {
   "cell_type": "markdown",
   "id": "470570b4-f3be-4e5a-9fe7-82236650b1cb",
   "metadata": {},
   "source": [
    "Basically, the data entries has been cleaned and consistent. There is one thing we have to do is that creating a function to check duplicate and unique values."
   ]
  },
  {
   "cell_type": "markdown",
   "id": "3aee15e6-868a-48ae-8a96-f602587e6665",
   "metadata": {},
   "source": [
    "### Detect and Remove duplicated entries"
   ]
  },
  {
   "cell_type": "markdown",
   "id": "750ed2d8-1e51-486f-b405-6b36579124e7",
   "metadata": {},
   "source": [
    "Explaination:\n",
    "1. Step one:\n",
    "- duplicate_app: A list stores duplicated values based on 4 criterions in \"entry_key\"\n",
    "- unique_app: A list stores unique values based on 4 criterions in \"entry_key\"\n",
    "- Use set() to check entries in entry_key faster, because we have 4 columns to check\n",
    "2. Step two:\n",
    "- Extract data by index\n",
    "3. Step three:\n",
    "- Create a tuple to  all the data at the same time #check lai\n",
    "4. Step four:\n",
    "- Execute the code: if in unique_entry => mark as a duplicate value\n",
    "- Processing:\n",
    "Entry_one: add to unique_entry and unique_app\n",
    "Entry_two: detect if the data having in unique_entry-> then add to duplicate_app.\n",
    "\n",
    "**Việc sử dụng set thì sẽ chạy code nhanh hơn, không sử dụng set cũng được, nhưng mà đợi sẽ lâu hơn 1 chút"
   ]
  },
  {
   "cell_type": "code",
   "execution_count": 26,
   "id": "f5da7c53-4fc9-4ca9-a575-7acd12b3bb8f",
   "metadata": {},
   "outputs": [
    {
     "name": "stdout",
     "output_type": "stream",
     "text": [
      "The number of duplicate apps: 0 apps in MOMA dataset\n",
      "The number of unique apps: 16725 apps in MOMA dataset\n"
     ]
    }
   ],
   "source": [
    "#STEP ONE:\n",
    "duplicate_app = []\n",
    "unique_app = [] \n",
    "unique_entry = set() \n",
    "\n",
    "#STEP TWO:\n",
    "for app in moma:\n",
    "    title = app[0]\n",
    "    artist = app[1]\n",
    "    nationality = app[2]\n",
    "    department = app[-1]\n",
    "\n",
    "#STEP THREE\n",
    "    entry_key = (title,artist,nationality,department) #Criterions\n",
    "\n",
    "#STEP FOUR\n",
    "    if entry_key in unique_app:\n",
    "        duplicate_app.append(app)\n",
    "    else:\n",
    "        #unique_entry.add(entry_key)\n",
    "        unique_app.append(app)\n",
    "        \n",
    "#STEP FIVE: Result\n",
    "print(f\"The number of duplicate apps: {len(duplicate_app)} apps in MOMA dataset\")\n",
    "print(f\"The number of unique apps: {len(unique_app)} apps in MOMA dataset\")"
   ]
  },
  {
   "cell_type": "code",
   "execution_count": 24,
   "id": "d6282620-e6df-46b0-9a97-8b4424cedd4f",
   "metadata": {},
   "outputs": [
    {
     "name": "stdout",
     "output_type": "stream",
     "text": [
      "['Dress MacLeod from Tartan Sets', 'Sarah Charlesworth', 'American', '1947', '2013', 'Female', '1986', 'Prints & Illustrated Books']\n",
      "\n",
      "\n",
      "['Duplicate of plate from folio 11 verso (supplementary suite, plate 4) from ARDICIA', 'Pablo Palazuelo', 'Spanish', '1916', '2007', 'Male', '1978', 'Prints & Illustrated Books']\n",
      "\n",
      "\n",
      "Number of columns: 8\n",
      "Number of rows: 14399\n"
     ]
    }
   ],
   "source": [
    "Cl_moma = unique_app\n",
    "explore_data(Cl_moma,0,2,True)"
   ]
  },
  {
   "cell_type": "markdown",
   "id": "6b30a7fd-be87-471b-9211-5db680dbfdb8",
   "metadata": {},
   "source": [
    "Now the data entries has been cleaned totally."
   ]
  },
  {
   "cell_type": "markdown",
   "id": "f915ee6e-503f-4e95-a47d-b1790aba0a24",
   "metadata": {},
   "source": [
    "# Average Frequency of Artwork Creation by an Artist"
   ]
  },
  {
   "cell_type": "markdown",
   "id": "24bf74d1",
   "metadata": {},
   "source": [
    "(calculated using BeginDate and ArtDate)"
   ]
  },
  {
   "cell_type": "code",
   "execution_count": null,
   "id": "6a9b26e0",
   "metadata": {},
   "outputs": [],
   "source": []
  },
  {
   "cell_type": "markdown",
   "id": "07830578-bbae-4016-a75b-15aec7ecf9d3",
   "metadata": {},
   "source": [
    "# Analyzing and summarizing artists' age interval"
   ]
  },
  {
   "cell_type": "markdown",
   "id": "d033a9d7",
   "metadata": {},
   "source": [
    "(calculated using BeginDate and EndDate) to investigate their relationship with the number of artworks produced. For example: Do artists who live longer tend to create more artworks?"
   ]
  },
  {
   "cell_type": "code",
   "execution_count": 49,
   "id": "6d0110f6-aae2-4594-9c77-2333b965e876",
   "metadata": {},
   "outputs": [],
   "source": [
    "age_gender_dict = {}\n",
    "for row in Cl_moma:\n",
    "    BeginDate = row[3]\n",
    "    EndDate = row[4]\n",
    "    Gender = row[5]\n",
    "    try:\n",
    "        if BeginDate != \"\" and EndDate != \"\":\n",
    "            birth = int(BeginDate)\n",
    "            death = int(EndDate)\n",
    "            if death >= birth:\n",
    "                age = death - birth\n",
    "                if age >= 20:\n",
    "                    decade_group = f\"{(age//10)*10}s\"\n",
    "                else:  # age < 20\n",
    "                    decade_group = \"Unknown\"\n",
    "            else:\n",
    "                decade_group = \"Invalid\"\n",
    "    except ValueError:\n",
    "        decade_group = \"Invalid\"\n",
    "    \n",
    "    # Khởi tạo key nếu chưa tồn tại\n",
    "    if decade_group not in age_gender_dict:\n",
    "        age_gender_dict[decade_group] = {'Male': 0, 'Female': 0, 'Other': 0}\n",
    "    \n",
    "    # Đếm theo giới tính\n",
    "    if Gender == \"Male\":\n",
    "        age_gender_dict[decade_group]['Male'] += 1\n",
    "    elif Gender == \"Female\":\n",
    "        age_gender_dict[decade_group]['Female'] += 1\n",
    "    else:\n",
    "        age_gender_dict[decade_group]['Other'] += 1"
   ]
  },
  {
   "cell_type": "markdown",
   "id": "ee7cea87-12b1-4604-bcb3-813c9f4880ce",
   "metadata": {},
   "source": [
    "Mostly, each decade group, Male has more artworks than Female"
   ]
  },
  {
   "cell_type": "code",
   "execution_count": 48,
   "id": "18447599-6987-4b16-92df-96336ea3b74e",
   "metadata": {},
   "outputs": [
    {
     "data": {
      "text/plain": [
       "{'60s': {'Male': 1437, 'Female': 319, 'Other': 52},\n",
       " '90s': {'Male': 1760, 'Female': 588, 'Other': 72},\n",
       " '70s': {'Male': 3578, 'Female': 447, 'Other': 113},\n",
       " '80s': {'Male': 3775, 'Female': 481, 'Other': 116},\n",
       " '50s': {'Male': 665, 'Female': 84, 'Other': 34},\n",
       " '40s': {'Male': 474, 'Female': 59, 'Other': 14},\n",
       " '30s': {'Male': 168, 'Female': 41, 'Other': 5},\n",
       " '20s': {'Male': 17, 'Female': 5, 'Other': 6},\n",
       " '100s': {'Male': 63, 'Female': 23, 'Other': 1},\n",
       " 'Unknown': {'Male': 0, 'Female': 0, 'Other': 2}}"
      ]
     },
     "metadata": {},
     "output_type": "display_data"
    }
   ],
   "source": [
    "display(age_gender_dict)"
   ]
  },
  {
   "cell_type": "markdown",
   "id": "5dad6837-5b50-450a-97ed-fabb46a079fc",
   "metadata": {},
   "source": [
    "- General trend:\n",
    "1. Artists who lived into their 60+ -> 80+ produced the most work, possibly due to a longer period of time spent creating\n",
    "2. The group under 50 group has fewer works perharps because they died early or were not recognized."
   ]
  },
  {
   "cell_type": "code",
   "execution_count": 50,
   "id": "59cecc79-2821-4bb5-ae1a-37d6051e212c",
   "metadata": {},
   "outputs": [
    {
     "name": "stdout",
     "output_type": "stream",
     "text": [
      "80s: 4372 records\n",
      "70s: 4138 records\n",
      "90s: 2420 records\n",
      "60s: 1808 records\n",
      "50s: 783 records\n",
      "40s: 547 records\n",
      "30s: 214 records\n",
      "100s: 87 records\n",
      "20s: 28 records\n",
      "Unknown: 2 records\n"
     ]
    }
   ],
   "source": [
    "sorted_decade_group = sorted(age_gender_dict.items(),key=lambda x:sum(x[1].values()),reverse=True)\n",
    "for group, counts in sorted_decade_group:\n",
    "    total = sum(counts.values())\n",
    "    print(f\"{group}: {total} records\")"
   ]
  },
  {
   "cell_type": "code",
   "execution_count": 138,
   "id": "9b4fd7cd",
   "metadata": {},
   "outputs": [
    {
     "data": {
      "image/png": "[encoded data removed]",
      "text/plain": [
       "<Figure size 1200x600 with 1 Axes>"
      ]
     },
     "metadata": {},
     "output_type": "display_data"
    }
   ],
   "source": [
    "# Danh sách các nhóm tuổi (sắp xếp theo thứ tự)\n",
    "age_list = sorted(age_gender_dict.keys(), key=lambda x: int(x[:-1]) if x != 'Unknown' else 999)\n",
    "\n",
    "# Danh sách các giới tính (lấy từ keys của dictionary con đầu tiên)\n",
    "gender_list = list(age_gender_dict['60s'].keys())  # ['Male', 'Female', 'Other']\n",
    "\n",
    "# Ma trận giá trị (số lượng) cho từng nhóm tuổi và giới tính\n",
    "values_list = np.array([[age_gender_dict[age][gender] for gender in gender_list] for age in age_list])\n",
    "\n",
    "import matplotlib.pyplot as plt\n",
    "\n",
    "plt.style.use('ggplot')\n",
    "\n",
    "x = np.arange(len(age_list))  # Vị trí các nhóm tuổi\n",
    "width = 0.25  # Độ rộng mỗi cột\n",
    "colors = ['#1f77b4', '#ff7f0e', '#2ca02c']  # Màu cho Male, Female, Other\n",
    "\n",
    "fig, ax = plt.subplots(figsize=(12, 6))\n",
    "\n",
    "# Vẽ các cột cho từng giới tính\n",
    "for i, gender in enumerate(gender_list):\n",
    "    ax.bar(x + i*width, values_list[:, i], width, label=gender, color=colors[i])\n",
    "\n",
    "# Title, xlabel, ylabel\n",
    "plt.title('Artworks by Age Group and Gender')\n",
    "plt.xlabel('Age Group')\n",
    "plt.ylabel('Number of Artworks')\n",
    "\n",
    "ax.set_xticks(x + width)\n",
    "ax.set_xticklabels(age_list, rotation=45)\n",
    "\n",
    "plt.legend()\n",
    "\n",
    "plt.tight_layout()\n",
    "plt.show()"
   ]
  }
 ],
 "metadata": {
  "kernelspec": {
   "display_name": "Python 3 (ipykernel)",
   "language": "python",
   "name": "python3"
  },
  "language_info": {
   "codemirror_mode": {
    "name": "ipython",
    "version": 3
   },
   "file_extension": ".py",
   "mimetype": "text/x-python",
   "name": "python",
   "nbconvert_exporter": "python",
   "pygments_lexer": "ipython3",
   "version": "3.12.3"
  },
  "toc": {
   "base_numbering": 1,
   "nav_menu": {},
   "number_sections": true,
   "sideBar": true,
   "skip_h1_title": false,
   "title_cell": "Table of Contents",
   "title_sidebar": "Contents",
   "toc_cell": false,
   "toc_position": {},
   "toc_section_display": true,
   "toc_window_display": false
  }
 },
 "nbformat": 4,
 "nbformat_minor": 5
}
